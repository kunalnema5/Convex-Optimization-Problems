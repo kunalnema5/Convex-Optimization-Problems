{
  "nbformat": 4,
  "nbformat_minor": 0,
  "metadata": {
    "colab": {
      "name": "11-Minimum time maneuver for a crane.ipynb",
      "provenance": [],
      "collapsed_sections": []
    },
    "kernelspec": {
      "name": "python3",
      "display_name": "Python 3"
    },
    "language_info": {
      "name": "python"
    }
  },
  "cells": [
    {
      "cell_type": "markdown",
      "source": [
        "# **Tutorial 10**"
      ],
      "metadata": {
        "id": "IYuor_UQvvsc"
      }
    },
    {
      "cell_type": "code",
      "execution_count": 51,
      "metadata": {
        "id": "ydLzfxkzYPAe"
      },
      "outputs": [],
      "source": [
        "import numpy as np\n",
        "import cvxpy as cp\n",
        "import matplotlib.pyplot as plt"
      ]
    },
    {
      "cell_type": "markdown",
      "source": [
        "**Given Data**"
      ],
      "metadata": {
        "id": "cnLBQd3X3wyM"
      }
    },
    {
      "cell_type": "code",
      "source": [
        "m = 0.1                       # mass\n",
        "theta = (15*np.pi)/180        # angle \n",
        "T_max = 2                     # max tension in the cables\n",
        "p_init = np.array([0, 0])     # initial position\n",
        "p_dest = np.array([10, 2])    # destination position\n",
        "g = np.array([0, -9.8])       # acceleration due to gravity\n",
        "h = 0.1                       # timestep\n",
        "\n",
        "left_comp = np.array([[-np.sin(theta), np.cos(theta)]])     # components of left cable\n",
        "right_comp = np.array([[np.sin(theta), np.cos(theta)]])     # components of right cable"
      ],
      "metadata": {
        "id": "2U67KsOPYXJq"
      },
      "execution_count": 52,
      "outputs": []
    },
    {
      "cell_type": "markdown",
      "source": [
        "**Bisection Method to find optimal time k***"
      ],
      "metadata": {
        "id": "IGRvDArW5EaS"
      }
    },
    {
      "cell_type": "code",
      "source": [
        "L = 10       # lower bound\n",
        "U = 50       # upper bound\n",
        "\n",
        "# Since k is a integer we can apply bisection method till the difference between\n",
        "# lower bound and upper bound is 1\n",
        "\n",
        "while(U-L != 1):\n",
        "\n",
        "  k = int((L+U)/2)\n",
        "\n",
        "  T_left = cp.Variable((1, k-1))      # tension in left cable\n",
        "  T_right = cp.Variable((1, k-1))     # tension in right cable\n",
        "\n",
        "  # total force on the load\n",
        "  # by using np.tile on g we can define F directly without running loop from 1 to k-1\n",
        "  # it make k-1 copies of g as a matrix\n",
        "  F = left_comp.T @ T_left  + right_comp.T @ T_right + m*np.tile(g, (k-1, 1)).T\n",
        "\n",
        "  p = cp.Variable((2, k))             # position of load in R2 plane as (p_x, p_y)\n",
        "  v = cp.Variable((2, k))             # velocity of load in R2 plane as (v_x, v_y)\n",
        "\n",
        "\n",
        "  # p[:,0] = p(x_0, y_0) and p[:,k-1] = p(x_k-1, y_k-1)\n",
        "  constraints = [T_left >=0, T_left <= T_max, T_right >=0, T_right <= T_max]\n",
        "  constraints += [p[:,0] == p_init, p[:,k-1] == p_dest, v[:,0] == 0, v[:,k-1] == 0]\n",
        "\n",
        "  for i in range(0, k-1):\n",
        "    constraints += [v[:,i+1] == v[:,i] + (h/m)*F[:,i]]   # v_i+1 = v_i + (h/m)F_i\n",
        "    constraints += [p[:,i+1] == p[:,i] + h*v[:,i]]       # p_i+1 = p_i + hv_i\n",
        "\n",
        "  objective = cp.Minimize(k)\n",
        "\n",
        "  prob = cp.Problem(objective, constraints)\n",
        "  prob.solve()\n",
        "\n",
        "  # To check the feasibility\n",
        "  if prob.status == 'optimal':\n",
        "    U = k\n",
        "\n",
        "    # To store optimal p and T\n",
        "    optimal_T_left = T_left.value\n",
        "    optimal_T_right = T_right.value\n",
        "    optimal_p = p.value\n",
        "    \n",
        "  else:\n",
        "    L = k\n",
        "\n",
        "print(\"The minimum time k⋆ = \", k)  "
      ],
      "metadata": {
        "colab": {
          "base_uri": "https://localhost:8080/"
        },
        "id": "PgwKevUsyA4T",
        "outputId": "33ac9005-88a8-44de-b864-5cb2c8ba0a07"
      },
      "execution_count": 53,
      "outputs": [
        {
          "output_type": "stream",
          "name": "stdout",
          "text": [
            "The minimum time k⋆ =  34\n"
          ]
        }
      ]
    },
    {
      "cell_type": "markdown",
      "source": [
        "**Plots**"
      ],
      "metadata": {
        "id": "F3UCbKHvswKa"
      }
    },
    {
      "cell_type": "code",
      "source": [
        "t = list(range(1, k))         # time\n",
        "plt.plot(t, optimal_T_left.T, label = 'Left cable')\n",
        "plt.plot(t, optimal_T_right.T, label = 'Right cable')\n",
        "plt.xlabel('time')\n",
        "plt.ylabel('tension')\n",
        "plt.legend()\n",
        "plt.show()"
      ],
      "metadata": {
        "colab": {
          "base_uri": "https://localhost:8080/",
          "height": 279
        },
        "id": "JKPy78WjzCP8",
        "outputId": "4f012043-a2ad-4417-f18e-c4cca9bb08f3"
      },
      "execution_count": 54,
      "outputs": [
        {
          "output_type": "display_data",
          "data": {
            "text/plain": [
              "<Figure size 432x288 with 1 Axes>"
            ],
            "image/png": "[encoded data removed]"
          },
          "metadata": {
            "needs_background": "light"
          }
        }
      ]
    },
    {
      "cell_type": "code",
      "source": [
        "# Trajectory in R2 plane (p_x, p_y)\n",
        "plt.plot(optimal_p[0,:], optimal_p[1,:])\n",
        "plt.title('Load Trajectory')\n",
        "plt.show()"
      ],
      "metadata": {
        "id": "SkGl6P7Ttoyy",
        "colab": {
          "base_uri": "https://localhost:8080/",
          "height": 281
        },
        "outputId": "31b020d2-a87d-49e9-bec7-9a0019bd847e"
      },
      "execution_count": 55,
      "outputs": [
        {
          "output_type": "display_data",
          "data": {
            "text/plain": [
              "<Figure size 432x288 with 1 Axes>"
            ],
            "image/png": "[encoded data removed]"
          },
          "metadata": {
            "needs_background": "light"
          }
        }
      ]
    },
    {
      "cell_type": "markdown",
      "source": [
        "Does the load move along the line segment between p_init and p_des?\n",
        "\n",
        "`Ans` : No, as it is clear from the trajectory followed by load that it does not move in a straight line from initial position to final position."
      ],
      "metadata": {
        "id": "CC4LD1xA24k3"
      }
    }
  ]
}