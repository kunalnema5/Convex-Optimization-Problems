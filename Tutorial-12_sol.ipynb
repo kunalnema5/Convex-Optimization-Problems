{
  "nbformat": 4,
  "nbformat_minor": 0,
  "metadata": {
    "colab": {
      "name": "14-Robust LP with polyhedral cost uncertainty.ipynb",
      "provenance": [],
      "collapsed_sections": []
    },
    "kernelspec": {
      "name": "python3",
      "display_name": "Python 3"
    },
    "language_info": {
      "name": "python"
    }
  },
  "cells": [
    {
      "cell_type": "code",
      "execution_count": 116,
      "metadata": {
        "id": "6qjy2mtw4fS1"
      },
      "outputs": [],
      "source": [
        "import numpy as np\n",
        "import cvxpy as cp"
      ]
    },
    {
      "cell_type": "markdown",
      "source": [
        "**Given Data**"
      ],
      "metadata": {
        "id": "bnLRNgkf7YMi"
      }
    },
    {
      "cell_type": "code",
      "source": [
        "np.random.seed(10)\n",
        "(m, n) = (30, 10)\n",
        "A = np.random.rand(m, n)\n",
        "A = np.asmatrix(A)\n",
        "\n",
        "b = np.random.rand(m, 1)\n",
        "b = np.asmatrix(b)\n",
        "\n",
        "c_nom = np.ones((n, 1)) + np.random.rand(n, 1)\n",
        "c_nom = np.asmatrix(c_nom)"
      ],
      "metadata": {
        "id": "YLdYoUIF4yGL"
      },
      "execution_count": 117,
      "outputs": []
    },
    {
      "cell_type": "markdown",
      "source": [
        "**Defining F**"
      ],
      "metadata": {
        "id": "pyBvbeZDPFGo"
      }
    },
    {
      "cell_type": "code",
      "source": [
        "I = np.identity(n)\n",
        "F = np.concatenate((I, -I))\n",
        "ones = np.ones((1, n))/n\n",
        "F = np.concatenate((F, ones, -ones))    # Size of F: (2n+2) x n"
      ],
      "metadata": {
        "id": "VhJRl9Qmj1XS"
      },
      "execution_count": 118,
      "outputs": []
    },
    {
      "cell_type": "markdown",
      "source": [
        "**Defining g**"
      ],
      "metadata": {
        "id": "9oeqiyZmPIma"
      }
    },
    {
      "cell_type": "code",
      "source": [
        "g = np.concatenate((1.25*c_nom, -0.75*c_nom))\n",
        "g = np.concatenate((g, 1.1*sum(c_nom)/n, -0.9*sum(c_nom)/n))    # Size of g: (2n+2) x 1"
      ],
      "metadata": {
        "id": "jDrpCOaqOGbM"
      },
      "execution_count": 119,
      "outputs": []
    },
    {
      "cell_type": "markdown",
      "source": [
        "**Defining λ and x as cp variables**"
      ],
      "metadata": {
        "id": "ax5LS2EPQpFB"
      }
    },
    {
      "cell_type": "code",
      "source": [
        "lambd = cp.Variable((g.size, 1))    # Size of lambda: (2n+2) x 1\n",
        "x = cp.Variable((n, 1))"
      ],
      "metadata": {
        "id": "Xj3YUGioPovB"
      },
      "execution_count": 120,
      "outputs": []
    },
    {
      "cell_type": "markdown",
      "source": [
        "**Solving Robust Problem**"
      ],
      "metadata": {
        "id": "VmEi-aC1RAIK"
      }
    },
    {
      "cell_type": "code",
      "source": [
        "objective_1 = cp.Minimize((lambd.T)*g)\n",
        "constraints_1 = [A*x >= b, (F.T)*lambd==x, lambd>=0]\n",
        "Problem_1 = cp.Problem(objective_1, constraints_1)\n",
        "Problem_1.solve()\n",
        "\n",
        "x = x.value\n",
        "print(\"Nominal cost for Robust problem: \", (c_nom.T)*x)\n",
        "\n",
        "# For f(x)\n",
        "c = cp.Variable((n, 1))\n",
        "objective_1 = cp.Maximize(c.T*x)\n",
        "constraints_1 = [F*c <= g]\n",
        "Problem_1 = cp.Problem(objective_1, constraints_1)\n",
        "print(\"Worst case cost for Robust problem\", Problem_1.solve())"
      ],
      "metadata": {
        "colab": {
          "base_uri": "https://localhost:8080/"
        },
        "id": "rlA98EmpQ_V6",
        "outputId": "53ad90d8-a8da-4757-e7ba-b752f95f1011"
      },
      "execution_count": 121,
      "outputs": [
        {
          "output_type": "stream",
          "name": "stdout",
          "text": [
            "Nominal cost for Robust problem:  [[2.52320886]]\n",
            "Worst case cost for Robust problem 3.165961051233025\n"
          ]
        }
      ]
    },
    {
      "cell_type": "markdown",
      "source": [
        "**Solving Nominal Problem**"
      ],
      "metadata": {
        "id": "DG9vqi1WS_Ll"
      }
    },
    {
      "cell_type": "code",
      "source": [
        "x = cp.Variable((n, 1))\n",
        "objective_2 = cp.Minimize((c_nom.T)*x)\n",
        "constraints_2 = [A*x >= b]\n",
        "Problem_2 = cp.Problem(objective_2, constraints_2)\n",
        "Problem_2.solve()\n",
        "\n",
        "x = x.value\n",
        "print(\"Nominal cost for Nominal problem: \", (c_nom.T)*x)\n",
        "\n",
        "# For f(x)\n",
        "c = cp.Variable((n, 1))\n",
        "objective_2 = cp.Maximize(c.T*x)\n",
        "constraints_2 = [F*c <= g]\n",
        "Problem_2 = cp.Problem(objective_2, constraints_2)\n",
        "print(\"Worst case cost for Nominal problem\", Problem_2.solve())"
      ],
      "metadata": {
        "colab": {
          "base_uri": "https://localhost:8080/"
        },
        "id": "7Rx1qkPXQ1JG",
        "outputId": "34d3a18b-fc92-43ff-d374-50172b6e2012"
      },
      "execution_count": 122,
      "outputs": [
        {
          "output_type": "stream",
          "name": "stdout",
          "text": [
            "Nominal cost for Nominal problem:  [[2.10927146]]\n",
            "Worst case cost for Nominal problem 7.2215622012361225\n"
          ]
        }
      ]
    },
    {
      "cell_type": "markdown",
      "source": [
        "**Comment** \\\\\n",
        "The value of nominal cost increases when we solve robust problem as compared to nominal problem and opposite happens with worst-case cost."
      ],
      "metadata": {
        "id": "YqWBATCBY-T_"
      }
    }
  ]
}