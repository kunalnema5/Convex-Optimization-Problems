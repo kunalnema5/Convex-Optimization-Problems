{
  "nbformat": 4,
  "nbformat_minor": 0,
  "metadata": {
    "colab": {
      "name": "2-diet_prob.ipynb",
      "provenance": [],
      "collapsed_sections": []
    },
    "kernelspec": {
      "name": "python3",
      "display_name": "Python 3"
    },
    "language_info": {
      "name": "python"
    }
  },
  "cells": [
    {
      "cell_type": "code",
      "execution_count": 56,
      "metadata": {
        "id": "jzoxf_Lk2fr1"
      },
      "outputs": [],
      "source": [
        "import numpy as np\n",
        "import cvxpy as cp\n",
        "\n",
        "m = 3   #varieties of food item\n",
        "\n",
        "#Given tabular data of calories, vitamin A and cost per servings\n",
        "calories = np.array([72, 121, 65])\n",
        "vitamin_A = np.array([107, 500, 0])\n",
        "cost_ps = np.array([0.18, 0.23, 0.05])\n"
      ]
    },
    {
      "cell_type": "code",
      "source": [
        "#Servings of each food item s = [corn, milk, bread]\n",
        "s = cp.Variable(m, integer = True)\n",
        "\n",
        "#funtion that return total cost on given num of servings\n",
        "def total_cost(s):\n",
        "  return (cost_ps@s)\n",
        "\n",
        "#constraints are applied on vector which cvx would understand and apply on its each element\n",
        "constraints = [s>=0, s<=10, (calories @ s)>=2000, (calories @ s)<=2250, (vitamin_A @ s)>=5000, (vitamin_A @ s)<=50000]\n",
        "\n",
        "#objective is to minimize the total cost satisfying daily nutritional requirement\n",
        "objective = cp.Minimize((cost_ps@s))\n",
        "\n",
        "prob = cp.Problem(objective, constraints)\n",
        "prob.solve()\n",
        "print(\"Optimal servings of [corn, milk, bread]: \", s.value)\n",
        "print(\"Optimal cost: \", total_cost(s.value))"
      ],
      "metadata": {
        "colab": {
          "base_uri": "https://localhost:8080/"
        },
        "id": "tCXCvbhzt6tI",
        "outputId": "4147b0db-faa8-4f7e-b363-e1a4eada3d4f"
      },
      "execution_count": 74,
      "outputs": [
        {
          "output_type": "stream",
          "name": "stdout",
          "text": [
            "Optimal servings of [corn, milk, bread]:  [ 2. 10. 10.]\n",
            "Optimal cost:  3.16\n"
          ]
        }
      ]
    }
  ]
}