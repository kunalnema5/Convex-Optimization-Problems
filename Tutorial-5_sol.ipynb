{
  "cells": [
    {
      "cell_type": "code",
      "execution_count": 1,
      "metadata": {
        "id": "ahlJ1YIDgqwZ"
      },
      "outputs": [],
      "source": [
        "import numpy as np\n",
        "import cvxpy as cp"
      ]
    },
    {
      "cell_type": "code",
      "execution_count": 2,
      "metadata": {
        "id": "_eR5PvXWg-6d"
      },
      "outputs": [],
      "source": [
        "# Number of Factories\n",
        "n = 3\n",
        "\n",
        "# Amount of Goods produced at each factory\n",
        "s = np.array([40, 45, 50])   # dim = n x 1"
      ]
    },
    {
      "cell_type": "code",
      "execution_count": 3,
      "metadata": {
        "id": "1JHzQ30B1QNy"
      },
      "outputs": [],
      "source": [
        "# Number of destinations\n",
        "m = 5\n",
        "\n",
        "# Demand of each destinations\n",
        "d = np.array([45, 20, 30, 30, 10])     # dim = m x 1"
      ]
    },
    {
      "cell_type": "code",
      "execution_count": 4,
      "metadata": {
        "id": "_KOAEa5x6g2_"
      },
      "outputs": [],
      "source": [
        "# cij denote the cost required to move a unit good from factory i to destination j\n",
        "\n",
        "c = np.array([[8, 6, 10, 9, 8], [9, 12, 13, 7, 5], [14, 9, 16, 5, 2]])  # dim = n x m"
      ]
    },
    {
      "cell_type": "markdown",
      "metadata": {
        "id": "wIChuIXt822L"
      },
      "source": [
        "**Constraints:**\n",
        "\n",
        "\n",
        "*   X ≥ 0 → as number of units cannot be negative\n",
        "*   X⋅**1ᵀ** ≤ s → The total number of goods transporting cannot exceed total goods produced: \n",
        "\n",
        "    X_11 + X_12 + ... + X_1m ≤ s_1\n",
        "\n",
        "    X_21 + X_22 + ... + X_2m ≤ s_2\n",
        "\n",
        "    ...\n",
        "\n",
        "    X_n1 + X_n2 + ... + X_nm ≤ s_n\n",
        "\n",
        "* X**ᵀ**⋅**1ᵀ** ≥ d → Total demand of each destinations should be satisfied:\n",
        "\n",
        "    X_11 + X_21 + ... + X_n1 ≤ d_1\n",
        "\n",
        "    X_12 + X_22 + ... + X_n2 ≤ d_2\n",
        "\n",
        "    ...\n",
        "\n",
        "    X_1m + X_2m + ... + X_nm ≤ d_m\n",
        "\n",
        "**Objective:** \n",
        "\n",
        "\n",
        "*   Our objective is to minimize the total cost.\n",
        "*   Total cost = ∑ᵢ∑ⱼXᵢⱼ⋅cᵢⱼ\n",
        "*   Trace(X⋅cᵀ) will give us the total cost"
      ]
    },
    {
      "cell_type": "code",
      "execution_count": 5,
      "metadata": {
        "colab": {
          "base_uri": "https://localhost:8080/"
        },
        "id": "km8BYRF28QoF",
        "outputId": "e5cb2b7a-9e90-467b-fd22-584fc678cbd7"
      },
      "outputs": [
        {
          "name": "stdout",
          "output_type": "stream",
          "text": [
            "Total optimal transportation cost:  1025.0000000704508\n",
            "Quantities shipped:  [[1.40872245e-08 1.00000000e+01 3.00000000e+01 1.10977074e-09\n",
            "  1.54941315e-10]\n",
            " [4.50000000e+01 2.27004004e-09 1.15459717e-08 2.09999033e-09\n",
            "  1.22665581e-09]\n",
            " [3.37991337e-09 1.00000000e+01 4.91898553e-09 3.00000000e+01\n",
            "  1.00000000e+01]]\n"
          ]
        }
      ],
      "source": [
        "# Xij denote units of good moved from factory i to destination j\n",
        "X = cp.Variable((n, m))\n",
        "\n",
        "constraints = [X>=0, (X @ np.ones(m).T) <= s, (X.T @ np.ones(n).T) >= d]\n",
        "\n",
        "objective = cp.Minimize(cp.trace(X @ c.T))\n",
        "\n",
        "problem = cp.Problem(objective, constraints)\n",
        "print(\"Total optimal transportation cost: \", problem.solve())\n",
        "print(\"Quantities shipped: \", X.value)"
      ]
    }
  ],
  "metadata": {
    "colab": {
      "collapsed_sections": [],
      "name": "6-transportation_prob.ipynb",
      "provenance": []
    },
    "kernelspec": {
      "display_name": "Python 3",
      "name": "python3"
    },
    "language_info": {
      "name": "python"
    }
  },
  "nbformat": 4,
  "nbformat_minor": 0
}
