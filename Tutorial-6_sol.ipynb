{
  "nbformat": 4,
  "nbformat_minor": 0,
  "metadata": {
    "colab": {
      "name": "7-Apple_products.ipynb",
      "provenance": [],
      "collapsed_sections": []
    },
    "kernelspec": {
      "name": "python3",
      "display_name": "Python 3"
    },
    "language_info": {
      "name": "python"
    }
  },
  "cells": [
    {
      "cell_type": "code",
      "execution_count": 1,
      "metadata": {
        "id": "IP0Q9We9fJCb"
      },
      "outputs": [],
      "source": [
        "import numpy as np\n",
        "import cvxpy as cp"
      ]
    },
    {
      "cell_type": "code",
      "source": [
        "# iPod, iPhone, iPad\n",
        "\n",
        "# This is production if we devote entire production to particular type\n",
        "production = np.array([6000, 5000, 3000])       # per day\n",
        "production = production*5                       # per week\n",
        "\n",
        "storage = np.array([40, 45, 210])               # per 1000 pieces\n",
        "storage = storage/1000                          # per piece\n",
        "\n",
        "min_req = np.array([5000, 0, 4000])             # per week\n",
        "\n",
        "max_demand = np.array([10000, 15000, 8000])     # per week\n",
        "\n",
        "profits = np.array([4, 6, 10])                  # per piece"
      ],
      "metadata": {
        "id": "k9E4EDu7hLnw"
      },
      "execution_count": 2,
      "outputs": []
    },
    {
      "cell_type": "code",
      "source": [
        "x = cp.Variable(3)    # proportion of time spent each day\n",
        "\n",
        "items_weekly_prod = cp.multiply(production, x)   # items produced in each week as production was per week\n",
        "\n",
        "total_profit = items_weekly_prod @ profits.T       # weekly profit\n",
        "objective = cp.Maximize(total_profit)\n",
        "\n",
        "\n",
        "total_storage = items_weekly_prod @ storage.T   # weekly storage\n",
        "constraints = [cp.sum(x) == 1, x >= 0, total_storage <= 6000, items_weekly_prod >= min_req, items_weekly_prod <= max_demand]\n",
        "\n",
        "problem = cp.Problem(objective, constraints)\n",
        "problem.solve()\n",
        "\n",
        "print(\"Total Profit: \", total_profit.value)\n",
        "\n",
        "print(\"Proportion of time spent each day on producing each of the 3 items: \")\n",
        "print(\"[x1 x2 x3] = \", x.value)"
      ],
      "metadata": {
        "colab": {
          "base_uri": "https://localhost:8080/"
        },
        "id": "wCgQbNEr86Ar",
        "outputId": "5cedee92-03c5-4d50-eb41-9143e55216ee"
      },
      "execution_count": 3,
      "outputs": [
        {
          "output_type": "stream",
          "name": "stdout",
          "text": [
            "Total Profit:  145000.0000008893\n",
            "Proportion of time spent each day on producing each of the 3 items: \n",
            "[x1 x2 x3] =  [0.16666667 0.30722312 0.52611022]\n"
          ]
        }
      ]
    },
    {
      "cell_type": "code",
      "source": [
        "y = items_weekly_prod\n",
        "print(\"Number of items of each type produced over the week: \")\n",
        "print(\"[y1 y2 y3] = \", y.value)"
      ],
      "metadata": {
        "colab": {
          "base_uri": "https://localhost:8080/"
        },
        "id": "zbJNqa58-2c6",
        "outputId": "21936701-923e-4315-e665-37596edf27cd"
      },
      "execution_count": 4,
      "outputs": [
        {
          "output_type": "stream",
          "name": "stdout",
          "text": [
            "Number of items of each type produced over the week: \n",
            "[y1 y2 y3] =  [4999.99999917 7680.57788178 7891.65327136]\n"
          ]
        }
      ]
    },
    {
      "cell_type": "code",
      "source": [
        "z = cp.Variable(3)\n",
        "\n",
        "z = 8 * x           # Number of hours devoted each day  (Given, each working day has 8 working hours)\n",
        "z = 5*z             # Number of hours devoted each week (Given, each week has 5 working days)\n",
        "print(\"Number of hours devoted to the production of each type over the week: \")\n",
        "print(\"[z1 z2 z3] = \", z.value)"
      ],
      "metadata": {
        "colab": {
          "base_uri": "https://localhost:8080/"
        },
        "id": "QJWzWEy3_b8b",
        "outputId": "4426ca7c-d9a7-445d-8c74-28c462215b49"
      },
      "execution_count": 5,
      "outputs": [
        {
          "output_type": "stream",
          "name": "stdout",
          "text": [
            "Number of hours devoted to the production of each type over the week: \n",
            "[z1 z2 z3] =  [ 6.66666667 12.28892461 21.04440872]\n"
          ]
        }
      ]
    }
  ]
}