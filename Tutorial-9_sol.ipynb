{
  "cells": [
    {
      "cell_type": "code",
      "execution_count": 1,
      "metadata": {
        "id": "XoeqxnAG8nLS"
      },
      "outputs": [],
      "source": [
        "import cvxpy as cp\n",
        "import numpy as np"
      ]
    },
    {
      "cell_type": "code",
      "execution_count": 2,
      "metadata": {
        "id": "PDwZKU45BA60"
      },
      "outputs": [],
      "source": [
        "# Number of Transmitters and receivers\n",
        "n = 5\n",
        "\n",
        "# Maximimum power for each transmitter\n",
        "P_max = np.repeat(3.0, n)\n",
        "\n",
        "# Self noise (power) produced at each receiver\n",
        "sigma = np.repeat(0.5, n)\n",
        "\n",
        "# Total power received at each receiver\n",
        "P_rc = np.repeat(5.0, n)\n",
        "\n",
        "# np.repeat(x, 5) = np.array([x, x, x, x, x])"
      ]
    },
    {
      "cell_type": "code",
      "execution_count": 3,
      "metadata": {
        "id": "iPyPS9JxW7mw"
      },
      "outputs": [],
      "source": [
        "# Given Path gain matrix\n",
        "G = np.array([[1.0, 0.1, 0.2, 0.1, 0.0],\n",
        "              [0.1, 1.0, 0.1, 0.1, 0.0],\n",
        "              [0.2, 0.1, 2.0, 0.2, 0.2],\n",
        "              [0.1, 0.1, 0.2, 1.0, 0.1],\n",
        "              [0.0, 0.0, 0.2, 0.1, 1.0]])\n",
        "\n",
        "# Groups: {1, 2} and {3, 4, 5}\n",
        "gp = np.array([[1,1,0,0,0],[0,0,1,1,1]])\n",
        "\n",
        "# Power limit on groups\n",
        "P_gp = np.array([4.0, 6.0])\n",
        "\n",
        "# An accuracy of 0.05 in SINR\n",
        "max_error = 0.05"
      ]
    },
    {
      "cell_type": "code",
      "execution_count": 4,
      "metadata": {
        "id": "KXBAdiQBbGE0"
      },
      "outputs": [],
      "source": [
        "# Power transmitted by each transmitter\n",
        "p = cp.Variable(n)\n",
        "\n",
        "# Signal power at each receiver\n",
        "S = cp.multiply(np.diag(G), p)          # np.diag returns diagonal entries of a matrix\n",
        "\n",
        "# Interference power at each receiver\n",
        "I = (G @ p) - S"
      ]
    },
    {
      "cell_type": "code",
      "execution_count": 5,
      "metadata": {
        "id": "YOYYO2e0LTkj"
      },
      "outputs": [],
      "source": [
        "# min SINR = 1/alpha\n",
        "alpha = cp.Parameter()\n",
        "\n",
        "# maximizing (min SINR) = maximizing (1/alpha) = minimizing (alpha)\n",
        "objective = cp.Minimize(alpha)\n",
        "\n",
        "# first 4 constraints are given and fifth follows from bisection method\n",
        "constraints = [p>=0, p<=P_max, (gp @ p) <= P_gp, (G @ p) <= P_rc, I + sigma <= alpha*S]"
      ]
    },
    {
      "cell_type": "code",
      "execution_count": 6,
      "metadata": {
        "id": "nXj85Lb2R5ZP"
      },
      "outputs": [],
      "source": [
        "# Bisection Method\n",
        "\n",
        "L = 0       # lower bound\n",
        "U = 1000    # upper bound\n",
        "\n",
        "while(U-L >=  max_error):\n",
        "  alpha.value = (L+U)/2\n",
        "  prob = cp.Problem(objective, constraints)\n",
        "  prob.solve()\n",
        "\n",
        "  # To check the feasibility\n",
        "  if prob.status == 'optimal':\n",
        "    U = alpha.value\n",
        "    optimal_p = p.value\n",
        "    max_SINR = 1/alpha.value\n",
        "    \n",
        "  else:\n",
        "    L = alpha.value"
      ]
    },
    {
      "cell_type": "code",
      "execution_count": 7,
      "metadata": {
        "colab": {
          "base_uri": "https://localhost:8080/"
        },
        "id": "0AKOjWZ_dFLF",
        "outputId": "f1370241-c2c8-413d-81c7-b49523b9e194"
      },
      "outputs": [
        {
          "name": "stdout",
          "output_type": "stream",
          "text": [
            "Transmitter powers:  [2.05325577 1.85690341 1.5972308  2.3231306  1.85569467]\n",
            "Maximum SINR:  1.6384\n"
          ]
        }
      ],
      "source": [
        "print(\"Transmitter powers: \", optimal_p)\n",
        "print(\"Maximum SINR: \", max_SINR)"
      ]
    }
  ],
  "metadata": {
    "colab": {
      "collapsed_sections": [],
      "name": "10.1-SINR maximization.ipynb",
      "provenance": []
    },
    "kernelspec": {
      "display_name": "Python 3",
      "name": "python3"
    },
    "language_info": {
      "codemirror_mode": {
        "name": "ipython",
        "version": 3
      },
      "file_extension": ".py",
      "mimetype": "text/x-python",
      "name": "python",
      "nbconvert_exporter": "python",
      "pygments_lexer": "ipython3",
      "version": "3.9.9"
    }
  },
  "nbformat": 4,
  "nbformat_minor": 0
}
